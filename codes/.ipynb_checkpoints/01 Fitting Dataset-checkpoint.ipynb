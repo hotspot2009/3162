{
 "cells": [
  {
   "cell_type": "code",
   "execution_count": null,
   "metadata": {
    "collapsed": true
   },
   "outputs": [],
   "source": [
    "# Import Libraries\n",
    "import pandas as pd\n",
    "import pickle as pk\n",
    "\n",
    "def city_identifier(address):\n",
    "    address = address.split()\n",
    "    if address[-1] == 'Kingdom':\n",
    "        return 'London, United Kingdom'\n",
    "    elif address[-1] == 'Austria':\n",
    "        return 'Vienna, Austria'\n",
    "    elif address[-1] == 'Netherlands':\n",
    "        return 'Amsterdam, Netherlands'\n",
    "    elif address[-1] == 'France':\n",
    "        return 'Paris, France'\n",
    "    elif address[-1] == 'Spain':\n",
    "        return 'Barcelona, Spain'\n",
    "    elif address[-1] == 'Italy':\n",
    "        return 'Milan, Italy'\n",
    "    return 'Another City'\n",
    "\n",
    "# Read Data\n",
    "raw = pd.read_csv('Stored Data\\Hotel_Reviews_Sample.csv')\n",
    "raw = raw.dropna(how=\"all\")\n",
    "\n",
    "raw['City'] = raw['Hotel_Address'].apply(lambda x: city_identifier(x))\n",
    "\n",
    "# Manually added latitute and longitude \n",
    "adjusted  = pd.read_csv('Stored Data\\Adjusted_Hotel_Info.csv')\n",
    "hotels = adjusted[['Hotel', 'Address', 'Score', 'Latitude', 'Longitude']]\n",
    "\n",
    "hotels['City'] = hotels['Address'].apply(lambda x: city_identifier(x))\n",
    "hotels = hotels.reset_index(drop=True)\n",
    "\n",
    "# Concatenate positive and negative review in one column \n",
    "pos = raw[['Hotel_Name', 'City', 'Positive_Review', 'Review_Date', 'Reviewer_Score']]\n",
    "pos.columns = ['Hotel', 'City', 'Reviews', 'Date', 'Score']\n",
    "neg = raw[['Hotel_Name', 'City', 'Negative_Review', 'Review_Date', 'Reviewer_Score']]\n",
    "neg.columns = ['Hotel', 'City','Reviews', 'Date', 'Score']\n",
    "reviews = pd.concat([pos, neg])\n",
    "\n",
    "# Concatenate positive and negative review in one column \n",
    "pos = raw[['Hotel_Name', 'City', 'Positive_Review', 'Review_Date', 'Reviewer_Score']]\n",
    "pos.columns = ['Hotel', 'City', 'Reviews', 'Date', 'Score']\n",
    "neg = raw[['Hotel_Name', 'City', 'Negative_Review', 'Review_Date', 'Reviewer_Score']]\n",
    "neg.columns = ['Hotel', 'City','Reviews', 'Date', 'Score']\n",
    "reviews = pd.concat([pos, neg])\n",
    "\n",
    "# Store the sample data\n",
    "outfile = open(\"Stored Data/sample_hotels.pickle\", \"wb\")\n",
    "pk.dump(hotels, outfile)\n",
    "outfile.close()\n",
    "\n",
    "outfile = open(\"Stored Data/sample_reviews.pickle\", \"wb\")\n",
    "pk.dump(reviews, outfile)\n",
    "outfile.close()\n",
    "\n",
    "print(len(reviews))\n",
    "print(len(hotels))"
   ]
  }
 ],
 "metadata": {
  "kernelspec": {
   "display_name": "Python 3",
   "language": "python",
   "name": "python3"
  },
  "language_info": {
   "codemirror_mode": {
    "name": "ipython",
    "version": 3
   },
   "file_extension": ".py",
   "mimetype": "text/x-python",
   "name": "python",
   "nbconvert_exporter": "python",
   "pygments_lexer": "ipython3",
   "version": "3.7.1"
  }
 },
 "nbformat": 4,
 "nbformat_minor": 2
}
