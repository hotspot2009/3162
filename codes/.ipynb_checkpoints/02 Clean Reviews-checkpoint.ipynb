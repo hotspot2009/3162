{
 "cells": [
  {
   "cell_type": "code",
   "execution_count": null,
   "metadata": {
    "collapsed": true
   },
   "outputs": [],
   "source": [
    "# Import Libraries\n",
    "import os\n",
    "import nltk\n",
    "import pandas as pd\n",
    "import pickle as pk\n",
    "import time\n",
    "\n",
    "# Assigning variable to library elements\n",
    "wt = nltk.tokenize.WhitespaceTokenizer()\n",
    "\n",
    "# Import processed sample data from folder\n",
    "infile = open(\"Stored Data/sample_reviews.pickle\", \"rb\")\n",
    "data = pk.load(infile)\n",
    "infile.close()\n",
    "\n",
    "def adjust_para(text):\n",
    "    text = str(text)\n",
    "    tokens = wt.tokenize(text)\n",
    "\n",
    "    for word in range(len(tokens)):\n",
    "        if tokens[word] == \"s\":\n",
    "            tokens[word] = \"'s\"\n",
    "        elif tokens[word] == \"t\":\n",
    "            tokens[word] = \"'t\"\n",
    "        elif tokens[word] == \"d\":\n",
    "            tokens[word] = \"'d\"\n",
    "        elif tokens[word] == \"ll\":\n",
    "            tokens[word] = \"'ll\"\n",
    "        elif tokens[word] == \"m\":\n",
    "            tokens[word] = \"'m\"\n",
    "        elif tokens[word] == \"o\":\n",
    "            tokens[word] = \"'o\"\n",
    "        elif tokens[word] == \"re\":\n",
    "            tokens[word] = \"'re\"\n",
    "        elif tokens[word] == \"ve\":\n",
    "            tokens[word] = \"'ve\"\n",
    "        elif tokens[word] == \"y\":\n",
    "            tokens[word] = \"'y\"\n",
    "    \n",
    "    text = \" \".join(tokens).replace(\" '\", \"'\")\n",
    "    mod = \"text=\" + text\n",
    "    \n",
    "    puntuator = !curl -d \"$mod\" http://bark.phon.ioc.ee/punctuator\n",
    "        \n",
    "    return puntuator[-1]\n",
    "\n",
    "data[\"Mod\"] = data['Reviews'].apply(lambda x: adjust_para(x))\n",
    "\n",
    "data = data.drop(['Reviews'], axis=1)\n",
    "data = data.rename(index=str, columns={\"Mod\": \"Reviews\"})\n",
    "\n",
    "outfile = open(\"Stored Data/sample_reviews.pickle\", \"wb\")\n",
    "pk.dump(data, outfile)\n",
    "outfile.close()\n",
    "\n",
    "input_file = open(\"Stored Data/raw_review_input_file.txt\",\"w+\")\n",
    "\n",
    "for index, row in data.iterrows():\n",
    "    fixed_text = row['Reviews']\n",
    "    input_file.write(\"{}\\n\".format(fixed_text))\n",
    "    \n",
    "input_file.close()"
   ]
  }
 ],
 "metadata": {
  "kernelspec": {
   "display_name": "Python 3",
   "language": "python",
   "name": "python3"
  },
  "language_info": {
   "codemirror_mode": {
    "name": "ipython",
    "version": 3
   },
   "file_extension": ".py",
   "mimetype": "text/x-python",
   "name": "python",
   "nbconvert_exporter": "python",
   "pygments_lexer": "ipython3",
   "version": "3.7.1"
  }
 },
 "nbformat": 4,
 "nbformat_minor": 2
}
