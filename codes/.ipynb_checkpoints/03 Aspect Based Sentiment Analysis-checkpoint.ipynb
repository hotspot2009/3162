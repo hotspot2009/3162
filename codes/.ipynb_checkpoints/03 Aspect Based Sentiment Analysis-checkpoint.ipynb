{
 "cells": [
  {
   "cell_type": "code",
   "execution_count": 1,
   "metadata": {
    "collapsed": true
   },
   "outputs": [],
   "source": [
    "# Import Libraries\n",
    "import nltk\n",
    "import pandas as pd\n",
    "import pickle as pk"
   ]
  },
  {
   "cell_type": "code",
   "execution_count": 32,
   "metadata": {},
   "outputs": [],
   "source": [
    "a = [('real','complaints'),('surroundings','complaints'),('great','surroundings'),('great','surroundings'),('surroundings','location'),('amenities','rooms'),('very confusing','recommendations'),('payments','deposit'),('you','offer'),('offer','staff'),('refund','payment'),('original','payment'),('minor','things'),('fantastic','spot'),('minor','spot'),('be','food'),('restaurant','site'),('secondly the','bit'),('excellent','food'),('food','quality'),('vegetarian','background'),('vegan','background'),('toasted','option'),('option','sandwich'),('great','food')]"
   ]
  },
  {
   "cell_type": "code",
   "execution_count": 37,
   "metadata": {},
   "outputs": [
    {
     "name": "stdout",
     "output_type": "stream",
     "text": [
      "[('real', 'complaints'), ('surroundings', 'complaints'), ('great', 'surroundings'), ('great', 'surroundings'), ('surroundings', 'location'), ('amenities', 'rooms'), ('very confusing', 'recommendations'), ('payments', 'deposit'), ('you', 'offer'), ('offer', 'staff'), ('refund', 'payment'), ('original', 'payment'), ('minor', 'things'), ('fantastic', 'spot'), ('minor', 'spot'), ('be', 'food'), ('restaurant', 'site'), ('secondly the', 'bit'), ('excellent', 'food'), ('food', 'quality'), ('vegetarian', 'background'), ('vegan', 'background'), ('toasted', 'option'), ('option', 'sandwich'), ('great', 'food')]\n"
     ]
    },
    {
     "ename": "UnboundLocalError",
     "evalue": "local variable 'aspect' referenced before assignment",
     "output_type": "error",
     "traceback": [
      "\u001b[1;31m---------------------------------------------------------------------------\u001b[0m",
      "\u001b[1;31mUnboundLocalError\u001b[0m                         Traceback (most recent call last)",
      "\u001b[1;32m<ipython-input-37-eda2ed7bbfe8>\u001b[0m in \u001b[0;36m<module>\u001b[1;34m()\u001b[0m\n\u001b[0;32m     17\u001b[0m     \u001b[1;32mreturn\u001b[0m \u001b[0maspect_opinion_word\u001b[0m\u001b[1;33m\u001b[0m\u001b[0m\n\u001b[0;32m     18\u001b[0m \u001b[1;33m\u001b[0m\u001b[0m\n\u001b[1;32m---> 19\u001b[1;33m \u001b[0mopinion_sentiment\u001b[0m\u001b[1;33m(\u001b[0m\u001b[0ma\u001b[0m\u001b[1;33m)\u001b[0m\u001b[1;33m\u001b[0m\u001b[0m\n\u001b[0m",
      "\u001b[1;32m<ipython-input-37-eda2ed7bbfe8>\u001b[0m in \u001b[0;36mopinion_sentiment\u001b[1;34m(aspects)\u001b[0m\n\u001b[0;32m      3\u001b[0m     \u001b[0mprint\u001b[0m\u001b[1;33m(\u001b[0m\u001b[0maspects\u001b[0m\u001b[1;33m)\u001b[0m\u001b[1;33m\u001b[0m\u001b[0m\n\u001b[0;32m      4\u001b[0m \u001b[1;33m\u001b[0m\u001b[0m\n\u001b[1;32m----> 5\u001b[1;33m     \u001b[0maspect_opinion_word\u001b[0m\u001b[1;33m.\u001b[0m\u001b[0msetdefault\u001b[0m\u001b[1;33m(\u001b[0m\u001b[0maspect\u001b[0m\u001b[1;33m[\u001b[0m\u001b[1;36m1\u001b[0m\u001b[1;33m]\u001b[0m\u001b[1;33m,\u001b[0m \u001b[1;33m[\u001b[0m\u001b[1;36m0\u001b[0m\u001b[1;33m,\u001b[0m\u001b[1;36m0\u001b[0m\u001b[1;33m]\u001b[0m\u001b[1;33m)\u001b[0m\u001b[1;33m\u001b[0m\u001b[0m\n\u001b[0m\u001b[0;32m      6\u001b[0m \u001b[1;33m\u001b[0m\u001b[0m\n\u001b[0;32m      7\u001b[0m     \u001b[1;32mfor\u001b[0m \u001b[0maspect\u001b[0m \u001b[1;32min\u001b[0m \u001b[0maspects\u001b[0m\u001b[1;33m:\u001b[0m\u001b[1;33m\u001b[0m\u001b[0m\n",
      "\u001b[1;31mUnboundLocalError\u001b[0m: local variable 'aspect' referenced before assignment"
     ]
    }
   ],
   "source": [
    "def opinion_sentiment(aspects):    \n",
    "    aspect_opinion_word = {}\n",
    "    print(aspects)\n",
    "    for aspect in aspects:\n",
    "        aspect_opinion_word.setdefault(aspect[1], [0,0])\n",
    "        \n",
    "        word_senti = word_sentiment(aspect[0])\n",
    "\n",
    "        if word_senti > 0: # Positive \n",
    "            aspect_opinion_word[aspect[1]][0] += word_senti\n",
    "        elif word_senti < 0: # Negative\n",
    "            aspect_opinion_word[aspect[1]][1] += word_senti\n",
    "\n",
    "    # Structure : {aspect: [Positive, Negative]}\n",
    "    return aspect_opinion_word\n",
    "\n",
    "opinion_sentiment(a)"
   ]
  },
  {
   "cell_type": "code",
   "execution_count": 11,
   "metadata": {
    "collapsed": true
   },
   "outputs": [],
   "source": [
    "def word_sentiment(single_word):\n",
    "    # Gets synonyms of a word from wordnet\n",
    "    word_syn = nltk.corpus.wordnet.synsets(single_word)\n",
    "    \n",
    "    if len(word_syn)!=0:\n",
    "        word = word_syn[0].name()\n",
    "        # Gets sentiment word of a word in numerical value\n",
    "        senti_score = nltk.corpus.sentiwordnet.senti_synset(word)\n",
    "        \n",
    "        if senti_score.pos_score() > senti_score.neg_score():\n",
    "            return senti_score.pos_score()\n",
    "        elif senti_score.pos_score() < senti_score.neg_score():\n",
    "            return -(senti_score.neg_score())\n",
    "        else:\n",
    "            return 0\n",
    "    return 0"
   ]
  },
  {
   "cell_type": "code",
   "execution_count": 15,
   "metadata": {},
   "outputs": [
    {
     "data": {
      "text/html": [
       "<div>\n",
       "<style>\n",
       "    .dataframe thead tr:only-child th {\n",
       "        text-align: right;\n",
       "    }\n",
       "\n",
       "    .dataframe thead th {\n",
       "        text-align: left;\n",
       "    }\n",
       "\n",
       "    .dataframe tbody tr th {\n",
       "        vertical-align: top;\n",
       "    }\n",
       "</style>\n",
       "<table border=\"1\" class=\"dataframe\">\n",
       "  <thead>\n",
       "    <tr style=\"text-align: right;\">\n",
       "      <th></th>\n",
       "      <th>Hotel</th>\n",
       "      <th>Reviews</th>\n",
       "      <th>Date</th>\n",
       "      <th>Score</th>\n",
       "    </tr>\n",
       "  </thead>\n",
       "  <tbody>\n",
       "    <tr>\n",
       "      <th>0</th>\n",
       "      <td>Hotel Arena</td>\n",
       "      <td>Only the park outside of the hotel was beauti...</td>\n",
       "      <td>8/3/2017</td>\n",
       "      <td>2.9</td>\n",
       "    </tr>\n",
       "    <tr>\n",
       "      <th>1</th>\n",
       "      <td>Hotel Arena</td>\n",
       "      <td>No real complaints the hotel was great great ...</td>\n",
       "      <td>8/3/2017</td>\n",
       "      <td>7.5</td>\n",
       "    </tr>\n",
       "    <tr>\n",
       "      <th>2</th>\n",
       "      <td>K K Hotel George</td>\n",
       "      <td>Very comfortable beds smart bathroom good sho...</td>\n",
       "      <td>8/3/2017</td>\n",
       "      <td>9.6</td>\n",
       "    </tr>\n",
       "    <tr>\n",
       "      <th>3</th>\n",
       "      <td>Apex Temple Court Hotel</td>\n",
       "      <td>Everything</td>\n",
       "      <td>8/3/2017</td>\n",
       "      <td>10.0</td>\n",
       "    </tr>\n",
       "    <tr>\n",
       "      <th>4</th>\n",
       "      <td>Apex Temple Court Hotel</td>\n",
       "      <td>Great Hotel with wonderful staff and good cui...</td>\n",
       "      <td>8/3/2017</td>\n",
       "      <td>7.9</td>\n",
       "    </tr>\n",
       "    <tr>\n",
       "      <th>5</th>\n",
       "      <td>The Park Grand London Paddington</td>\n",
       "      <td>Location</td>\n",
       "      <td>8/3/2017</td>\n",
       "      <td>5.4</td>\n",
       "    </tr>\n",
       "    <tr>\n",
       "      <th>6</th>\n",
       "      <td>The Park Grand London Paddington</td>\n",
       "      <td>The front desk staff were very helpful and pl...</td>\n",
       "      <td>8/3/2017</td>\n",
       "      <td>7.5</td>\n",
       "    </tr>\n",
       "    <tr>\n",
       "      <th>7</th>\n",
       "      <td>The Park Grand London Paddington</td>\n",
       "      <td>Friendly atmosphere beds comfortable</td>\n",
       "      <td>8/3/2017</td>\n",
       "      <td>8.3</td>\n",
       "    </tr>\n",
       "    <tr>\n",
       "      <th>8</th>\n",
       "      <td>Park Plaza County Hall London</td>\n",
       "      <td>Just the location and view</td>\n",
       "      <td>8/3/2017</td>\n",
       "      <td>5.0</td>\n",
       "    </tr>\n",
       "    <tr>\n",
       "      <th>9</th>\n",
       "      <td>Park Plaza County Hall London</td>\n",
       "      <td>Around the corner from the London eye and use...</td>\n",
       "      <td>8/3/2017</td>\n",
       "      <td>7.5</td>\n",
       "    </tr>\n",
       "  </tbody>\n",
       "</table>\n",
       "</div>"
      ],
      "text/plain": [
       "                              Hotel  \\\n",
       "0                       Hotel Arena   \n",
       "1                       Hotel Arena   \n",
       "2                  K K Hotel George   \n",
       "3           Apex Temple Court Hotel   \n",
       "4           Apex Temple Court Hotel   \n",
       "5  The Park Grand London Paddington   \n",
       "6  The Park Grand London Paddington   \n",
       "7  The Park Grand London Paddington   \n",
       "8     Park Plaza County Hall London   \n",
       "9     Park Plaza County Hall London   \n",
       "\n",
       "                                             Reviews      Date  Score  \n",
       "0   Only the park outside of the hotel was beauti...  8/3/2017    2.9  \n",
       "1   No real complaints the hotel was great great ...  8/3/2017    7.5  \n",
       "2   Very comfortable beds smart bathroom good sho...  8/3/2017    9.6  \n",
       "3                                         Everything  8/3/2017   10.0  \n",
       "4   Great Hotel with wonderful staff and good cui...  8/3/2017    7.9  \n",
       "5                                           Location  8/3/2017    5.4  \n",
       "6   The front desk staff were very helpful and pl...  8/3/2017    7.5  \n",
       "7               Friendly atmosphere beds comfortable  8/3/2017    8.3  \n",
       "8                         Just the location and view  8/3/2017    5.0  \n",
       "9   Around the corner from the London eye and use...  8/3/2017    7.5  "
      ]
     },
     "execution_count": 15,
     "metadata": {},
     "output_type": "execute_result"
    }
   ],
   "source": [
    "# Import processed sample data from folder\n",
    "infile = open(\"Stored Data/sample_reviews.pickle\", \"rb\")\n",
    "data = pk.load(infile)\n",
    "infile.close()\n",
    "\n",
    "data.head(10)"
   ]
  },
  {
   "cell_type": "code",
   "execution_count": 29,
   "metadata": {},
   "outputs": [
    {
     "data": {
      "text/html": [
       "<div>\n",
       "<style>\n",
       "    .dataframe thead tr:only-child th {\n",
       "        text-align: right;\n",
       "    }\n",
       "\n",
       "    .dataframe thead th {\n",
       "        text-align: left;\n",
       "    }\n",
       "\n",
       "    .dataframe tbody tr th {\n",
       "        vertical-align: top;\n",
       "    }\n",
       "</style>\n",
       "<table border=\"1\" class=\"dataframe\">\n",
       "  <thead>\n",
       "    <tr style=\"text-align: right;\">\n",
       "      <th></th>\n",
       "      <th>Aspects</th>\n",
       "    </tr>\n",
       "  </thead>\n",
       "  <tbody>\n",
       "    <tr>\n",
       "      <th>0</th>\n",
       "      <td>[('beautiful','park')]</td>\n",
       "    </tr>\n",
       "    <tr>\n",
       "      <th>1</th>\n",
       "      <td>[('real','complaints'),('surroundings','compla...</td>\n",
       "    </tr>\n",
       "    <tr>\n",
       "      <th>2</th>\n",
       "      <td>[('very comfortable','beds'),('smart','bathroo...</td>\n",
       "    </tr>\n",
       "    <tr>\n",
       "      <th>3</th>\n",
       "      <td>[]</td>\n",
       "    </tr>\n",
       "    <tr>\n",
       "      <th>4</th>\n",
       "      <td>[('wonderful','staff'),('good','cuisine')]</td>\n",
       "    </tr>\n",
       "    <tr>\n",
       "      <th>5</th>\n",
       "      <td>[]</td>\n",
       "    </tr>\n",
       "    <tr>\n",
       "      <th>6</th>\n",
       "      <td>[('front','staff'),('staff','desk'),('very hel...</td>\n",
       "    </tr>\n",
       "    <tr>\n",
       "      <th>7</th>\n",
       "      <td>[('Friendly','beds'),('beds','atmosphere')]</td>\n",
       "    </tr>\n",
       "    <tr>\n",
       "      <th>8</th>\n",
       "      <td>[]</td>\n",
       "    </tr>\n",
       "    <tr>\n",
       "      <th>9</th>\n",
       "      <td>[('was','pickup'),('cruise','river'),('eating'...</td>\n",
       "    </tr>\n",
       "  </tbody>\n",
       "</table>\n",
       "</div>"
      ],
      "text/plain": [
       "                                             Aspects\n",
       "0                             [('beautiful','park')]\n",
       "1  [('real','complaints'),('surroundings','compla...\n",
       "2  [('very comfortable','beds'),('smart','bathroo...\n",
       "3                                                 []\n",
       "4         [('wonderful','staff'),('good','cuisine')]\n",
       "5                                                 []\n",
       "6  [('front','staff'),('staff','desk'),('very hel...\n",
       "7        [('Friendly','beds'),('beds','atmosphere')]\n",
       "8                                                 []\n",
       "9  [('was','pickup'),('cruise','river'),('eating'..."
      ]
     },
     "execution_count": 29,
     "metadata": {},
     "output_type": "execute_result"
    }
   ],
   "source": [
    "# Pre-processed aspects gotten from Java Script (Enhanced Dependencies)\n",
    "pre_aspects = pd.read_csv(\"Stored Data\\java_output.txt\", header=None, delimiter=\"\\t\", names = [\"Aspects\"])\n",
    "pre_aspects.head(10)"
   ]
  },
  {
   "cell_type": "code",
   "execution_count": 36,
   "metadata": {},
   "outputs": [
    {
     "name": "stdout",
     "output_type": "stream",
     "text": [
      "[('beautiful','park')]\n"
     ]
    },
    {
     "ename": "IndexError",
     "evalue": "string index out of range",
     "output_type": "error",
     "traceback": [
      "\u001b[1;31m---------------------------------------------------------------------------\u001b[0m",
      "\u001b[1;31mIndexError\u001b[0m                                Traceback (most recent call last)",
      "\u001b[1;32m<ipython-input-36-ad33505e7e8f>\u001b[0m in \u001b[0;36m<module>\u001b[1;34m()\u001b[0m\n\u001b[1;32m----> 1\u001b[1;33m \u001b[0mdata\u001b[0m\u001b[1;33m[\u001b[0m\u001b[1;34m'Aspect_Sentiment'\u001b[0m\u001b[1;33m]\u001b[0m \u001b[1;33m=\u001b[0m \u001b[0mpre_aspects\u001b[0m\u001b[1;33m[\u001b[0m\u001b[1;34m\"Aspects\"\u001b[0m\u001b[1;33m]\u001b[0m\u001b[1;33m.\u001b[0m\u001b[0mapply\u001b[0m\u001b[1;33m(\u001b[0m\u001b[1;32mlambda\u001b[0m \u001b[0mx\u001b[0m\u001b[1;33m:\u001b[0m \u001b[0mopinion_sentiment\u001b[0m\u001b[1;33m(\u001b[0m\u001b[0mx\u001b[0m\u001b[1;33m)\u001b[0m\u001b[1;33m)\u001b[0m\u001b[1;33m\u001b[0m\u001b[0m\n\u001b[0m\u001b[0;32m      2\u001b[0m \u001b[0mdata\u001b[0m\u001b[1;33m.\u001b[0m\u001b[0mhead\u001b[0m\u001b[1;33m(\u001b[0m\u001b[1;33m)\u001b[0m\u001b[1;33m\u001b[0m\u001b[0m\n",
      "\u001b[1;32mD:\\System\\Anaconda3\\envs\\tfdeeplearning\\lib\\site-packages\\pandas\\core\\series.py\u001b[0m in \u001b[0;36mapply\u001b[1;34m(self, func, convert_dtype, args, **kwds)\u001b[0m\n\u001b[0;32m   2353\u001b[0m             \u001b[1;32melse\u001b[0m\u001b[1;33m:\u001b[0m\u001b[1;33m\u001b[0m\u001b[0m\n\u001b[0;32m   2354\u001b[0m                 \u001b[0mvalues\u001b[0m \u001b[1;33m=\u001b[0m \u001b[0mself\u001b[0m\u001b[1;33m.\u001b[0m\u001b[0masobject\u001b[0m\u001b[1;33m\u001b[0m\u001b[0m\n\u001b[1;32m-> 2355\u001b[1;33m                 \u001b[0mmapped\u001b[0m \u001b[1;33m=\u001b[0m \u001b[0mlib\u001b[0m\u001b[1;33m.\u001b[0m\u001b[0mmap_infer\u001b[0m\u001b[1;33m(\u001b[0m\u001b[0mvalues\u001b[0m\u001b[1;33m,\u001b[0m \u001b[0mf\u001b[0m\u001b[1;33m,\u001b[0m \u001b[0mconvert\u001b[0m\u001b[1;33m=\u001b[0m\u001b[0mconvert_dtype\u001b[0m\u001b[1;33m)\u001b[0m\u001b[1;33m\u001b[0m\u001b[0m\n\u001b[0m\u001b[0;32m   2356\u001b[0m \u001b[1;33m\u001b[0m\u001b[0m\n\u001b[0;32m   2357\u001b[0m         \u001b[1;32mif\u001b[0m \u001b[0mlen\u001b[0m\u001b[1;33m(\u001b[0m\u001b[0mmapped\u001b[0m\u001b[1;33m)\u001b[0m \u001b[1;32mand\u001b[0m \u001b[0misinstance\u001b[0m\u001b[1;33m(\u001b[0m\u001b[0mmapped\u001b[0m\u001b[1;33m[\u001b[0m\u001b[1;36m0\u001b[0m\u001b[1;33m]\u001b[0m\u001b[1;33m,\u001b[0m \u001b[0mSeries\u001b[0m\u001b[1;33m)\u001b[0m\u001b[1;33m:\u001b[0m\u001b[1;33m\u001b[0m\u001b[0m\n",
      "\u001b[1;32mpandas\\_libs\\src\\inference.pyx\u001b[0m in \u001b[0;36mpandas._libs.lib.map_infer (pandas\\_libs\\lib.c:66645)\u001b[1;34m()\u001b[0m\n",
      "\u001b[1;32m<ipython-input-36-ad33505e7e8f>\u001b[0m in \u001b[0;36m<lambda>\u001b[1;34m(x)\u001b[0m\n\u001b[1;32m----> 1\u001b[1;33m \u001b[0mdata\u001b[0m\u001b[1;33m[\u001b[0m\u001b[1;34m'Aspect_Sentiment'\u001b[0m\u001b[1;33m]\u001b[0m \u001b[1;33m=\u001b[0m \u001b[0mpre_aspects\u001b[0m\u001b[1;33m[\u001b[0m\u001b[1;34m\"Aspects\"\u001b[0m\u001b[1;33m]\u001b[0m\u001b[1;33m.\u001b[0m\u001b[0mapply\u001b[0m\u001b[1;33m(\u001b[0m\u001b[1;32mlambda\u001b[0m \u001b[0mx\u001b[0m\u001b[1;33m:\u001b[0m \u001b[0mopinion_sentiment\u001b[0m\u001b[1;33m(\u001b[0m\u001b[0mx\u001b[0m\u001b[1;33m)\u001b[0m\u001b[1;33m)\u001b[0m\u001b[1;33m\u001b[0m\u001b[0m\n\u001b[0m\u001b[0;32m      2\u001b[0m \u001b[0mdata\u001b[0m\u001b[1;33m.\u001b[0m\u001b[0mhead\u001b[0m\u001b[1;33m(\u001b[0m\u001b[1;33m)\u001b[0m\u001b[1;33m\u001b[0m\u001b[0m\n",
      "\u001b[1;32m<ipython-input-35-8b6dfff1f260>\u001b[0m in \u001b[0;36mopinion_sentiment\u001b[1;34m(aspects)\u001b[0m\n\u001b[0;32m      3\u001b[0m     \u001b[0mprint\u001b[0m\u001b[1;33m(\u001b[0m\u001b[0maspects\u001b[0m\u001b[1;33m)\u001b[0m\u001b[1;33m\u001b[0m\u001b[0m\n\u001b[0;32m      4\u001b[0m     \u001b[1;32mfor\u001b[0m \u001b[0maspect\u001b[0m \u001b[1;32min\u001b[0m \u001b[0maspects\u001b[0m\u001b[1;33m:\u001b[0m\u001b[1;33m\u001b[0m\u001b[0m\n\u001b[1;32m----> 5\u001b[1;33m         \u001b[0maspect_opinion_word\u001b[0m\u001b[1;33m.\u001b[0m\u001b[0msetdefault\u001b[0m\u001b[1;33m(\u001b[0m\u001b[0maspect\u001b[0m\u001b[1;33m[\u001b[0m\u001b[1;36m1\u001b[0m\u001b[1;33m]\u001b[0m\u001b[1;33m,\u001b[0m \u001b[1;33m[\u001b[0m\u001b[1;36m0\u001b[0m\u001b[1;33m,\u001b[0m\u001b[1;36m0\u001b[0m\u001b[1;33m]\u001b[0m\u001b[1;33m)\u001b[0m\u001b[1;33m\u001b[0m\u001b[0m\n\u001b[0m\u001b[0;32m      6\u001b[0m \u001b[1;33m\u001b[0m\u001b[0m\n\u001b[0;32m      7\u001b[0m         \u001b[0mword_senti\u001b[0m \u001b[1;33m=\u001b[0m \u001b[0mword_sentiment\u001b[0m\u001b[1;33m(\u001b[0m\u001b[0maspect\u001b[0m\u001b[1;33m[\u001b[0m\u001b[1;36m0\u001b[0m\u001b[1;33m]\u001b[0m\u001b[1;33m)\u001b[0m\u001b[1;33m\u001b[0m\u001b[0m\n",
      "\u001b[1;31mIndexError\u001b[0m: string index out of range"
     ]
    }
   ],
   "source": [
    "data['Aspect_Sentiment'] = pre_aspects[\"Aspects\"].apply(lambda x: opinion_sentiment(x))\n",
    "data.head()"
   ]
  },
  {
   "cell_type": "code",
   "execution_count": null,
   "metadata": {
    "collapsed": true
   },
   "outputs": [],
   "source": []
  }
 ],
 "metadata": {
  "kernelspec": {
   "display_name": "Python 3",
   "language": "python",
   "name": "python3"
  },
  "language_info": {
   "codemirror_mode": {
    "name": "ipython",
    "version": 3
   },
   "file_extension": ".py",
   "mimetype": "text/x-python",
   "name": "python",
   "nbconvert_exporter": "python",
   "pygments_lexer": "ipython3",
   "version": "3.5.4"
  }
 },
 "nbformat": 4,
 "nbformat_minor": 2
}
