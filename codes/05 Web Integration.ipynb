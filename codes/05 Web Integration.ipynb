{
 "cells": [
  {
   "cell_type": "code",
   "execution_count": 78,
   "metadata": {
    "collapsed": true
   },
   "outputs": [],
   "source": [
    "# Import Libraries\n",
    "import pandas as pd\n",
    "import pickle as pk\n",
    "import numpy as np\n",
    "from collections import defaultdict\n",
    "import time\n",
    "import math \n",
    "import random"
   ]
  },
  {
   "cell_type": "code",
   "execution_count": 79,
   "metadata": {
    "collapsed": true
   },
   "outputs": [],
   "source": [
    "infile = open(\"Stored Data/aspect_dict.pickle\", \"rb\")\n",
    "aspect_dict = pk.load(infile)\n",
    "infile.close()\n",
    "\n",
    "infile = open(\"Stored Data/city_dict.pickle\", \"rb\")\n",
    "city_dict = pk.load(infile)\n",
    "infile.close()\n",
    "\n",
    "infile = open(\"Stored Data/hotel_dict.pickle\", \"rb\")\n",
    "hotel_dict = pk.load(infile)\n",
    "infile.close()\n",
    "\n",
    "infile = open(\"Stored Data/timeline_dict.pickle\", \"rb\")\n",
    "timeline_dict = pk.load(infile)\n",
    "infile.close()"
   ]
  },
  {
   "cell_type": "code",
   "execution_count": 131,
   "metadata": {},
   "outputs": [
    {
     "data": {
      "text/plain": [
       "[[['Mimi s Hotel Soho_London, United Kingdom', 0]]]"
      ]
     },
     "execution_count": 131,
     "metadata": {},
     "output_type": "execute_result"
    }
   ],
   "source": [
    "search = 'broom'\n",
    "location = 'London, United Kingdom'\n",
    "\n",
    "count = 0\n",
    "collection = []\n",
    "for key, value in timeline_dict.items():\n",
    "    if count == 4:\n",
    "        break\n",
    "    else:\n",
    "        if location in timeline_dict[key]:\n",
    "            if search in timeline_dict[key][location]:\n",
    "                data = timeline_dict[key][location][search]\n",
    "                collection.append(data)\n",
    "                count += 1\n",
    "                \n",
    "collection"
   ]
  },
  {
   "cell_type": "code",
   "execution_count": 132,
   "metadata": {},
   "outputs": [
    {
     "data": {
      "text/plain": [
       "{'Mimi s Hotel Soho_London, United Kingdom': 0}"
      ]
     },
     "execution_count": 132,
     "metadata": {},
     "output_type": "execute_result"
    }
   ],
   "source": [
    "results_aspects = {}\n",
    "\n",
    "for x in collection:\n",
    "    for y in x:\n",
    "        if y[0] in results_aspects:\n",
    "            results_aspects[y[0]] += y[1]\n",
    "        else:\n",
    "            results_aspects.setdefault(y[0], y[1])\n",
    "\n",
    "pos_aspects = {}\n",
    "\n",
    "for key, value in results_aspects.items():\n",
    "    if value >= 0 :\n",
    "        pos_aspects.setdefault(key, value)\n",
    "            \n",
    "pos_aspects"
   ]
  },
  {
   "cell_type": "code",
   "execution_count": 137,
   "metadata": {
    "collapsed": true
   },
   "outputs": [],
   "source": [
    "def min_max(arr, min_limit, max_limit):\n",
    "    _min = math.inf\n",
    "    _max = -math.inf\n",
    "\n",
    "    for i in range(len(arr)):\n",
    "        if arr[i] < _min:\n",
    "            _min = arr[i]\n",
    "\n",
    "        if arr[i] > _max:\n",
    "            _max = arr[i]\n",
    "            \n",
    "    if _min == _max:\n",
    "        return [0]\n",
    "\n",
    "    new_arr = []\n",
    "    for i in range(len(arr)):\n",
    "        new_val = (((arr[i] - _min) / (_max - _min)) * (max_limit - (min_limit))) + min_limit\n",
    "        new_arr.append(new_val)\n",
    "\n",
    "    return new_arr"
   ]
  },
  {
   "cell_type": "code",
   "execution_count": 138,
   "metadata": {},
   "outputs": [
    {
     "name": "stdout",
     "output_type": "stream",
     "text": [
      "[0]\n"
     ]
    }
   ],
   "source": [
    "array_of_num = []\n",
    "\n",
    "for key, value in pos_aspects.items():\n",
    "    array_of_num.append(value)\n",
    "\n",
    "print(array_of_num)"
   ]
  },
  {
   "cell_type": "code",
   "execution_count": 139,
   "metadata": {},
   "outputs": [
    {
     "data": {
      "text/plain": [
       "[0]"
      ]
     },
     "execution_count": 139,
     "metadata": {},
     "output_type": "execute_result"
    }
   ],
   "source": [
    "normalize_num = min_max(array_of_num, 0, 100)\n",
    "normalize_num"
   ]
  },
  {
   "cell_type": "code",
   "execution_count": 141,
   "metadata": {},
   "outputs": [],
   "source": [
    "count = 0\n",
    "normalize_array = []\n",
    "for key, value in pos_aspects.items():\n",
    "    if normalize_num[count] > 0:\n",
    "        normalize_array.append((normalize_num[count], key))\n",
    "    count += 1"
   ]
  },
  {
   "cell_type": "code",
   "execution_count": 142,
   "metadata": {},
   "outputs": [
    {
     "data": {
      "text/plain": [
       "[]"
      ]
     },
     "execution_count": 142,
     "metadata": {},
     "output_type": "execute_result"
    }
   ],
   "source": [
    "normalize_array"
   ]
  },
  {
   "cell_type": "code",
   "execution_count": 143,
   "metadata": {},
   "outputs": [
    {
     "data": {
      "text/plain": [
       "[]"
      ]
     },
     "execution_count": 143,
     "metadata": {},
     "output_type": "execute_result"
    }
   ],
   "source": [
    "normalize_array.sort(reverse=True)\n",
    "normalize_array"
   ]
  },
  {
   "cell_type": "code",
   "execution_count": 67,
   "metadata": {},
   "outputs": [
    {
     "name": "stdout",
     "output_type": "stream",
     "text": [
      "The Toren\n",
      "Courtyard by Marriott Amsterdam Arena Atlas\n",
      "Savoy Hotel Amsterdam\n",
      "Chasse Hotel\n",
      "WestCord Fashion Hotel Amsterdam\n",
      "NH Collection Amsterdam Barbizon Palace\n",
      "citizenM Amsterdam\n",
      "Hampshire Hotel Amsterdam American\n",
      "NH Collection Amsterdam Doelen\n",
      "Best Western Premier Hotel Couture\n",
      "Ambassade Hotel\n",
      "W Amsterdam\n",
      "NH Carlton Amsterdam\n",
      "Hotel Arena\n",
      "Golden Tulip Amsterdam West\n",
      "Element Amsterdam\n",
      "Jaz Amsterdam\n",
      "Conservatorium Hotel\n"
     ]
    }
   ],
   "source": [
    "for hotel in normalize_array:\n",
    "    print(hotel[1])"
   ]
  },
  {
   "cell_type": "code",
   "execution_count": 145,
   "metadata": {},
   "outputs": [
    {
     "data": {
      "text/plain": [
       "[]"
      ]
     },
     "execution_count": 145,
     "metadata": {},
     "output_type": "execute_result"
    }
   ],
   "source": [
    "def normalize_data(search, location):\n",
    "    count = 0\n",
    "    collection = []\n",
    "    for key, value in timeline_dict.items():\n",
    "        if count == 4:\n",
    "            break\n",
    "        else:\n",
    "            if location in timeline_dict[key]:\n",
    "                if search in timeline_dict[key][location]:\n",
    "                    data = timeline_dict[key][location][search]\n",
    "                    collection.append(data)\n",
    "                    count += 1\n",
    "\n",
    "    results_aspects = {}\n",
    "\n",
    "    for x in collection:\n",
    "        for y in x:\n",
    "            if y[0] in results_aspects:\n",
    "                results_aspects[y[0]] += y[1]\n",
    "            else:\n",
    "                results_aspects.setdefault(y[0], y[1])\n",
    "                \n",
    "    pos_aspects = {}\n",
    "\n",
    "    for key, value in results_aspects.items():\n",
    "        if value >= 0 :\n",
    "            pos_aspects.setdefault(key, value)\n",
    "    \n",
    "    array_of_num = []\n",
    "\n",
    "    for key, value in pos_aspects.items():\n",
    "        array_of_num.append(value)\n",
    "\n",
    "    normalize_num = min_max(array_of_num,0,100)\n",
    "\n",
    "    count = 0\n",
    "    normalize_array = []\n",
    "    for key, value in pos_aspects.items():\n",
    "        if normalize_num[count] > 0:\n",
    "            normalize_array.append((normalize_num[count], key))\n",
    "        count += 1\n",
    "\n",
    "    normalize_array.sort(reverse=True)\n",
    "\n",
    "    return normalize_array    \n",
    "\n",
    "timeline = normalize_data('broom', 'London, United Kingdom')\n",
    "timeline"
   ]
  },
  {
   "cell_type": "code",
   "execution_count": 24,
   "metadata": {},
   "outputs": [
    {
     "name": "stdout",
     "output_type": "stream",
     "text": [
      "Apollo Hotel Amsterdam\n",
      "100.0\n",
      "Apollolaan 2 Oud Zuid 1077 BA Amsterdam Netherlands\n",
      "----------\n",
      "Fletcher Hotel Amsterdam\n",
      "90.9\n",
      "Schepenbergweg 50 Zuidoost 1105 AT Amsterdam Netherlands\n",
      "----------\n",
      "WestCord Fashion Hotel Amsterdam\n",
      "63.6\n",
      "Hendrikje Stoffelstraat 1 Slotervaart 1058 GC Amsterdam Netherlands\n",
      "----------\n",
      "Jaz Amsterdam\n",
      "45.5\n",
      "De Passage 90 Noord Holland Zuidoost 1101 AX Amsterdam Netherlands\n",
      "----------\n",
      "Hampton by Hilton Amsterdam Centre East\n",
      "45.5\n",
      "Panama Laan 188 196 Zeeburg 1019 AZ Amsterdam Netherlands\n",
      "----------\n",
      "Hampshire Hotel The Manor Amsterdam\n",
      "45.5\n",
      "Linnaeusstraat 89 Oost 1093 EK Amsterdam Netherlands\n",
      "----------\n",
      "citizenM Amsterdam\n",
      "36.4\n",
      "Prinses Irenestraat 30 Zuideramstel 1077 WX Amsterdam Netherlands\n",
      "----------\n",
      "WestCord Art Hotel Amsterdam 4 stars\n",
      "27.3\n",
      "Spaarndammerdijk 304 Westerpark 1013 ZX Amsterdam Netherlands\n",
      "----------\n",
      "The Student Hotel Amsterdam City\n",
      "27.3\n",
      "Wibautstraat 129 Oost 1091 GL Amsterdam Netherlands\n",
      "----------\n",
      "Mercure Hotel Amsterdam City South\n",
      "27.3\n",
      "Joan Muyskenweg 10 Oost 1096 CJ Amsterdam Netherlands\n",
      "----------\n",
      "Inntel Hotels Amsterdam Centre\n",
      "27.3\n",
      "Nieuwezijdskolk 19 Amsterdam City Center 1012 PV Amsterdam Netherlands\n",
      "----------\n",
      "Hotel V Fizeaustraat\n",
      "27.3\n",
      "Fizeaustraat 2 Oost 1097 SC Amsterdam Netherlands\n",
      "----------\n",
      "Hotel De Hallen\n",
      "27.3\n",
      "Bellamyplein 47 Oud West 1053 AT Amsterdam Netherlands\n",
      "----------\n",
      "Dutch Design Hotel Artemis\n",
      "27.3\n",
      "John M Keynesplein 2 Slotervaart 1066 EP Amsterdam Netherlands\n",
      "----------\n",
      "Best Western Premier Hotel Couture\n",
      "27.3\n",
      "Delflandlaan 15 Slotervaart 1062 EA Amsterdam Netherlands\n",
      "----------\n",
      "Best Western Blue Tower Hotel\n",
      "27.3\n",
      "Leeuwendalersweg 21 Bos en Lommer 1055 JE Amsterdam Netherlands\n",
      "----------\n",
      "Park Plaza Victoria Amsterdam\n",
      "18.2\n",
      "Damrak 1 5 Amsterdam City Center 1012 LG Amsterdam Netherlands\n",
      "----------\n",
      "NH Collection Amsterdam Grand Hotel Krasnapolsky\n",
      "18.2\n",
      "Dam 9 Amsterdam City Center 1012 JS Amsterdam Netherlands\n",
      "----------\n"
     ]
    }
   ],
   "source": [
    "for hotel in timeline:\n",
    "    print(hotel[1])\n",
    "    print(\"{:.1f}\".format(hotel[0]))\n",
    "    print(hotel_dict[hotel[1]][0])\n",
    "    print(\"----------\")"
   ]
  },
  {
   "cell_type": "code",
   "execution_count": 28,
   "metadata": {
    "collapsed": true
   },
   "outputs": [],
   "source": [
    "def get_location(data, hotel_info):\n",
    "    location = []\n",
    "    for a in data:\n",
    "        location.append([a[1], hotel_info[a[1]][0], hotel_info[a[1]][2], hotel_info[a[1]][3]])\n",
    "        \n",
    "    return location\n",
    "    \n",
    "locations = get_location(timeline, hotel_dict)"
   ]
  },
  {
   "cell_type": "code",
   "execution_count": 31,
   "metadata": {},
   "outputs": [
    {
     "data": {
      "text/plain": [
       "4.8844292000000005"
      ]
     },
     "execution_count": 31,
     "metadata": {},
     "output_type": "execute_result"
    }
   ],
   "source": [
    "locations[0][3]"
   ]
  },
  {
   "cell_type": "code",
   "execution_count": null,
   "metadata": {
    "collapsed": true
   },
   "outputs": [],
   "source": []
  }
 ],
 "metadata": {
  "kernelspec": {
   "display_name": "Python 3",
   "language": "python",
   "name": "python3"
  },
  "language_info": {
   "codemirror_mode": {
    "name": "ipython",
    "version": 3
   },
   "file_extension": ".py",
   "mimetype": "text/x-python",
   "name": "python",
   "nbconvert_exporter": "python",
   "pygments_lexer": "ipython3",
   "version": "3.5.4"
  }
 },
 "nbformat": 4,
 "nbformat_minor": 2
}
