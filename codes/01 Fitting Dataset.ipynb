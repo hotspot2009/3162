{
 "cells": [
  {
   "cell_type": "code",
   "execution_count": 2,
   "metadata": {},
   "outputs": [
    {
     "name": "stdout",
     "output_type": "stream",
     "text": [
      "11782\n",
      "1154\n"
     ]
    }
   ],
   "source": [
    "\"\"\"\n",
    "Jupyter Notebook file which takes in raw csv file obtained from Kaggle \n",
    "and preprocesses it by extracting relevant and useful hotel information \n",
    "and reviews and consequently storing them in their own respective files.\n",
    "\n",
    "\"\"\"\n",
    "\n",
    "# Import Libraries\n",
    "import pandas as pd\n",
    "import pickle as pk\n",
    "\n",
    "# given an address from the review, function returns the city the hotel is located in\n",
    "def city_identifier(address):\n",
    "    address = address.split()\n",
    "    if address[-1] == 'Kingdom':\n",
    "        return 'London, United Kingdom'\n",
    "    elif address[-1] == 'Austria':\n",
    "        return 'Vienna, Austria'\n",
    "    elif address[-1] == 'Netherlands':\n",
    "        return 'Amsterdam, Netherlands'\n",
    "    elif address[-1] == 'France':\n",
    "        return 'Paris, France'\n",
    "    elif address[-1] == 'Spain':\n",
    "        return 'Barcelona, Spain'\n",
    "    elif address[-1] == 'Italy':\n",
    "        return 'Milan, Italy'\n",
    "    return 'Another City'\n",
    "\n",
    "# Read Data\n",
    "raw = pd.read_csv('Stored Data\\Hotel_Reviews_Sample.csv')\n",
    "raw = raw.dropna(how=\"all\")\n",
    "\n",
    "# Create new column City and populate it by passing each address thru city_identifier by lambda\n",
    "raw['City'] = raw['Hotel_Address'].apply(lambda x: city_identifier(x))\n",
    "\n",
    "# Manually added latitute and longitude for hotels missing coordinates\n",
    "adjusted  = pd.read_csv('Stored Data\\Adjusted_Hotel_Info.csv')\n",
    "\n",
    "# Create a smaller table with only columns that are useful\n",
    "hotels = adjusted[['Hotel', 'Address', 'Score', 'Latitude', 'Longitude']]\n",
    "\n",
    "# Populate City column in new table 'hotels', maintain indexes after removals\n",
    "hotels['City'] = hotels['Address'].apply(lambda x: city_identifier(x))\n",
    "hotels = hotels.reset_index(drop=True)\n",
    "\n",
    "# Concatenate positive and negative review in one column \n",
    "pos = raw[['Hotel_Name', 'City', 'Positive_Review', 'Review_Date', 'Reviewer_Score']]\n",
    "pos.columns = ['Hotel', 'City', 'Reviews', 'Date', 'Score']\n",
    "neg = raw[['Hotel_Name', 'City', 'Negative_Review', 'Review_Date', 'Reviewer_Score']]\n",
    "neg.columns = ['Hotel', 'City','Reviews', 'Date', 'Score']\n",
    "reviews = pd.concat([pos, neg])\n",
    "\n",
    "# Store the hotel information in its own pickle file\n",
    "outfile = open(\"Stored Data/sample_hotels.pickle\", \"wb\")\n",
    "pk.dump(hotels, outfile)\n",
    "outfile.close()\n",
    "\n",
    "# Store the reviews information in its own pickle file\n",
    "outfile = open(\"Stored Data/sample_reviews.pickle\", \"wb\")\n",
    "pk.dump(reviews, outfile)\n",
    "outfile.close()\n",
    "\n",
    "print(len(reviews))\n",
    "print(len(hotels))"
   ]
  },
  {
   "cell_type": "code",
   "execution_count": null,
   "metadata": {},
   "outputs": [],
   "source": []
  }
 ],
 "metadata": {
  "kernelspec": {
   "display_name": "Python 3",
   "language": "python",
   "name": "python3"
  },
  "language_info": {
   "codemirror_mode": {
    "name": "ipython",
    "version": 3
   },
   "file_extension": ".py",
   "mimetype": "text/x-python",
   "name": "python",
   "nbconvert_exporter": "python",
   "pygments_lexer": "ipython3",
   "version": "3.7.1"
  }
 },
 "nbformat": 4,
 "nbformat_minor": 2
}
